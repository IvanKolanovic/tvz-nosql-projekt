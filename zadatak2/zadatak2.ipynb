{
 "cells": [
  {
   "cell_type": "markdown",
   "metadata": {},
   "source": [
    "Priprema koda"
   ]
  },
  {
   "cell_type": "code",
   "execution_count": 3,
   "metadata": {},
   "outputs": [
    {
     "name": "stdout",
     "output_type": "stream",
     "text": [
      "Učitavanje podataka...\n"
     ]
    }
   ],
   "source": [
    "import pandas as pd\n",
    "import numpy as np\n",
    "\n",
    "# Učitavanje podataka iz CSV datoteke\n",
    "print(\"Učitavanje podataka...\")\n",
    "df = pd.read_csv('./data.csv')"
   ]
  },
  {
   "cell_type": "markdown",
   "metadata": {},
   "source": [
    "Zadatak 1: Provodi kontrolu kvalitete podataka prema zadanim koracima:\n",
    "\n",
    "1.1 Prepoznavanje nedostajućih vrijednosti\n",
    "\n",
    "1.2 Rekodiranje nedostajućih vrijednosti\n",
    "\n",
    "1.3 Prepoznavanje uniformnih ili nelogičnih distribucija\n",
    "\n",
    "1.4 Provjera/redizajniranje/određivanje ciljne varijable\n",
    "\n",
    "1.5 Objašnjenje i komentiranje nalaza"
   ]
  },
  {
   "cell_type": "markdown",
   "metadata": {},
   "source": [
    "Riješenje 1.1 Prepoznavanje nedostajućih vrijednosti"
   ]
  },
  {
   "cell_type": "code",
   "execution_count": 4,
   "metadata": {},
   "outputs": [
    {
     "name": "stdout",
     "output_type": "stream",
     "text": [
      "\n",
      "Broj nedostajućih vrijednosti po stupcima:\n",
      "CH8    1\n",
      "dtype: int64\n",
      "\n",
      "Ukupan broj nedostajućih vrijednosti: 1\n"
     ]
    }
   ],
   "source": [
    "# Prepoznavanje nedostajućih vrijednosti\n",
    "print(\"\\nBroj nedostajućih vrijednosti po stupcima:\")\n",
    "missing_values = df.isnull().sum()\n",
    "\n",
    "# Ispis samo stupaca koji imaju nedostajuće vrijednosti\n",
    "missing_columns = missing_values[missing_values > 0]\n",
    "if len(missing_columns) > 0:\n",
    "    print(missing_columns)\n",
    "else:\n",
    "    print(\"Nema nedostajućih vrijednosti u podacima.\")\n",
    "\n",
    "# Ispis ukupnog broja nedostajućih vrijednosti\n",
    "total_missing = df.isnull().sum().sum()\n",
    "print(f\"\\nUkupan broj nedostajućih vrijednosti: {total_missing}\")"
   ]
  },
  {
   "cell_type": "markdown",
   "metadata": {},
   "source": []
  },
  {
   "cell_type": "markdown",
   "metadata": {},
   "source": [
    "Rijesenje 1.2 Rekodiranje nedostajućih vrijednosti"
   ]
  },
  {
   "cell_type": "code",
   "execution_count": null,
   "metadata": {},
   "outputs": [],
   "source": []
  },
  {
   "cell_type": "markdown",
   "metadata": {},
   "source": [
    "1.3 Prepoznavanje uniformnih ili nelogičnih distribucija"
   ]
  },
  {
   "cell_type": "code",
   "execution_count": 5,
   "metadata": {},
   "outputs": [
    {
     "name": "stdout",
     "output_type": "stream",
     "text": [
      "\n",
      "--- PREPOZNAVANJE UNIFORMNIH ILI NELOGIČNIH DISTRIBUCIJA ---\n",
      "\n",
      "Stupci s uniformnom distribucijom (samo jedna vrijednost):\n",
      "  - DI: 0\n",
      "\n",
      "Numerički stupci s neravnomjernom distribucijom:\n",
      "  - DI: 100.0% nula\n"
     ]
    }
   ],
   "source": []
  }
 ],
 "metadata": {
  "kernelspec": {
   "display_name": "Python 3",
   "language": "python",
   "name": "python3"
  },
  "language_info": {
   "codemirror_mode": {
    "name": "ipython",
    "version": 3
   },
   "file_extension": ".py",
   "mimetype": "text/x-python",
   "name": "python",
   "nbconvert_exporter": "python",
   "pygments_lexer": "ipython3",
   "version": "3.12.7"
  }
 },
 "nbformat": 4,
 "nbformat_minor": 2
}
